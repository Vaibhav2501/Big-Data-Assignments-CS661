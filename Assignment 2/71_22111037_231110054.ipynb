{
 "cells": [
  {
   "cell_type": "code",
   "execution_count": 25,
   "id": "ed071685",
   "metadata": {},
   "outputs": [],
   "source": [
    "import vtk\n",
    "import numpy as np\n",
    "import ipywidgets as widgets\n",
    "import plotly.graph_objs as go\n",
    "from vtk import *"
   ]
  },
  {
   "cell_type": "code",
   "execution_count": 26,
   "id": "5a4f46ec",
   "metadata": {},
   "outputs": [],
   "source": [
    "#creating histogram\n",
    "def create_histogram(filtered_scalar_data):\n",
    "    layout = go.Layout(\n",
    "    #title='Histogram',\n",
    "    xaxis=dict(title='Vortex Scalar Values'),\n",
    "    yaxis=dict(title='Frequency'),\n",
    "    )\n",
    "    return go.FigureWidget(data=[go.Histogram(x=filtered_scalar_data, nbinsx=43,marker=dict(color='blue'),opacity=0.6)], layout=layout)\n"
   ]
  },
  {
   "cell_type": "code",
   "execution_count": 27,
   "id": "9c647442",
   "metadata": {},
   "outputs": [],
   "source": [
    "# creating slider\n",
    "def create_slider(mini,maxi):\n",
    "    return widgets.FloatSlider(value=0.0, min=mini, max=maxi, description='Isovalue',continuous_update=False,step=0.01)\n"
   ]
  },
  {
   "cell_type": "code",
   "execution_count": 28,
   "id": "66cc082e",
   "metadata": {},
   "outputs": [],
   "source": [
    "#isosurface update function\n",
    "def isosurface_update(change):\n",
    "    x = change.new\n",
    "    fig.data[0].update(isomin=x,isomax=x)\n",
    "    \n",
    "#histogram update function\n",
    "def histogram_update(change):\n",
    "    x = change.new\n",
    "    val = []\n",
    "    for i in values:\n",
    "        if i >= x-0.25:\n",
    "            if i<= x+0.25:\n",
    "                val.append(i)\n",
    "        else:\n",
    "            pass\n",
    "    histogram.data[0].x = val\n",
    "    \n",
    "#histogram reset function\n",
    "def histogram_reset(reset_button):\n",
    "    slider.value=0.0\n",
    "    histogram.data[0].x = values\n",
    "\n",
    "#isosurface reset function    \n",
    "def isosurface_reset(reset_button):\n",
    "    x = 0.0\n",
    "    fig.data[0].update(isomin=x,isomax=x)\n"
   ]
  },
  {
   "cell_type": "code",
   "execution_count": 29,
   "id": "f62924c0",
   "metadata": {},
   "outputs": [],
   "source": [
    "#creating reader\n",
    "reader = vtkXMLImageDataReader()\n",
    "reader.SetFileName('mixture.vti')\n",
    "reader.Update()\n",
    "\n",
    "\n",
    "\n",
    "data = reader.GetOutput()\n",
    "#finding no. of dimensions\n",
    "num_dim = data.GetDimensions()\n",
    "num_points = num_dim[0] * num_dim[1] * num_dim[2]\n",
    "data_array = data.GetPointData().GetArray('ImageFile')\n",
    "values=[]\n",
    "coordinates=[]\n",
    "for pid in range(num_points):\n",
    "    values.append(data_array.GetTuple1(pid))\n",
    "    coordinates.append(data.GetPoint(pid))\n",
    "    \n",
    "surface = vtkGeometryFilter()\n",
    "surface.SetInputData(data)\n",
    "surface.Update()\n",
    "image_data = surface.GetOutput()\n",
    "Range = data.GetScalarRange()\n",
    "#print(Range)\n",
    "x=[]\n",
    "y=[]\n",
    "z=[]\n",
    "for i in coordinates:\n",
    "    x.append(i[0])\n",
    "    y.append(i[1])\n",
    "    z.append(i[2])\n",
    "\n"
   ]
  },
  {
   "cell_type": "code",
   "execution_count": 30,
   "id": "5c5d1f85",
   "metadata": {},
   "outputs": [],
   "source": [
    "\n",
    "\n",
    "\n",
    "#point_data,scalars,values=get_val(dims)\n",
    "\n",
    "\n",
    "def create_isosurface(values,x,y,z):\n",
    "    data=go.Isosurface(\n",
    "    x=x,\n",
    "    y=y,\n",
    "    z=z,\n",
    "    value=values,\n",
    "    isomin=0.0,\n",
    "    isomax=0.0,\n",
    "    cauto = False,\n",
    "    cmin = min(values),\n",
    "    cmax = max(values),\n",
    "    surface_count=1,\n",
    "    colorscale='plasma',\n",
    "    caps=dict(x_show=False, y_show=False),\n",
    "    opacity=1,\n",
    "    colorbar=dict(thickness=20, ticklen=4),\n",
    "    showscale=False,\n",
    "    )\n",
    "    # return go.FigureWidget(data)\n",
    "    isosurface =  go.FigureWidget(data)\n",
    "    isosurface.update_scenes(\n",
    "        xaxis=dict(showticklabels=False),\n",
    "        yaxis=dict(showticklabels=False),\n",
    "        zaxis=dict(showticklabels=False),\n",
    "    )\n",
    "    return isosurface\n",
    "\n",
    "\n",
    "fig = create_isosurface(values,x,y,z)\n",
    "\n",
    "\n"
   ]
  },
  {
   "cell_type": "code",
   "execution_count": 31,
   "id": "de19f49c",
   "metadata": {},
   "outputs": [],
   "source": [
    "# Extract the scalar data for the vertices from the 3D dataset\n",
    "output = reader.GetOutput()\n",
    "point_data = output.GetPointData()\n",
    "scalar_data = point_data.GetScalars()\n",
    "\n",
    "x_min = np.min(values)\n",
    "x_max = np.max(values) \n",
    "\n",
    "#finding filtered scalar data \n",
    "filtered_scalar_data=[]\n",
    "for i in range(scalar_data.GetNumberOfTuples()):\n",
    "    res=scalar_data.GetValue(i)\n",
    "    if x_min <= res  and res <= x_max:\n",
    "        filtered_scalar_data.append(res)\n",
    "        \n",
    "\n",
    "histogram=create_histogram(filtered_scalar_data)\n"
   ]
  },
  {
   "cell_type": "code",
   "execution_count": 32,
   "id": "033e8307",
   "metadata": {},
   "outputs": [
    {
     "data": {
      "application/vnd.jupyter.widget-view+json": {
       "model_id": "f1200871cd4d45f5b0d12073aa445ca0",
       "version_major": 2,
       "version_minor": 0
      },
      "text/plain": [
       "VBox(children=(HBox(children=(FloatSlider(value=0.0, continuous_update=False, description='Isovalue', max=0.43…"
      ]
     },
     "metadata": {},
     "output_type": "display_data"
    }
   ],
   "source": [
    "\n",
    "slider=create_slider(Range[0],Range[1])\n",
    "reset_button = widgets.Button(description='Reset')\n",
    "\n",
    "#creating slider    \n",
    "slider.observe(isosurface_update,names='value')\n",
    "slider.observe(histogram_update,names='value')\n",
    "reset_button.on_click(histogram_reset)\n",
    "reset_button.on_click(isosurface_reset)\n",
    "\n",
    "# creating widgets\n",
    "widget1 = widgets.HBox([slider,reset_button])\n",
    "widget2 = widgets.HBox([fig,histogram])\n",
    "widget3 = widgets.VBox([widget1,widget2])\n",
    "display(widget3)\n"
   ]
  },
  {
   "cell_type": "code",
   "execution_count": null,
   "id": "0f507b18-1049-492a-ae20-d72cae7f9067",
   "metadata": {},
   "outputs": [],
   "source": []
  }
 ],
 "metadata": {
  "kernelspec": {
   "display_name": "Python 3 (ipykernel)",
   "language": "python",
   "name": "python3"
  },
  "language_info": {
   "codemirror_mode": {
    "name": "ipython",
    "version": 3
   },
   "file_extension": ".py",
   "mimetype": "text/x-python",
   "name": "python",
   "nbconvert_exporter": "python",
   "pygments_lexer": "ipython3",
   "version": "3.12.2"
  }
 },
 "nbformat": 4,
 "nbformat_minor": 5
}
